{
 "cells": [
  {
   "cell_type": "code",
   "execution_count": null,
   "metadata": {},
   "outputs": [],
   "source": [
    "import pandas as pd \n",
    "from sklearn.cluster import KMeans\n",
    "from sklearn.metrics import silhouette_samples, silhouette_score\n",
    "from sklearn.cluster import MeanShift, estimate_bandwidth\n",
    "import matplotlib.pyplot as plt\n",
    "import matplotlib.cm as cm"
   ]
  },
  {
   "cell_type": "code",
   "execution_count": 2,
   "metadata": {},
   "outputs": [],
   "source": [
    "dt=pd.read_csv('results.csv')"
   ]
  },
  {
   "cell_type": "code",
   "execution_count": 3,
   "metadata": {
    "scrolled": true
   },
   "outputs": [
    {
     "data": {
      "text/html": [
       "<div>\n",
       "<style scoped>\n",
       "    .dataframe tbody tr th:only-of-type {\n",
       "        vertical-align: middle;\n",
       "    }\n",
       "\n",
       "    .dataframe tbody tr th {\n",
       "        vertical-align: top;\n",
       "    }\n",
       "\n",
       "    .dataframe thead th {\n",
       "        text-align: right;\n",
       "    }\n",
       "</style>\n",
       "<table border=\"1\" class=\"dataframe\">\n",
       "  <thead>\n",
       "    <tr style=\"text-align: right;\">\n",
       "      <th></th>\n",
       "      <th>division</th>\n",
       "      <th>name</th>\n",
       "      <th>city</th>\n",
       "      <th>gender</th>\n",
       "      <th>age</th>\n",
       "      <th>official</th>\n",
       "      <th>bib</th>\n",
       "      <th>overall</th>\n",
       "      <th>state</th>\n",
       "      <th>genderdiv</th>\n",
       "      <th>net</th>\n",
       "      <th>country</th>\n",
       "    </tr>\n",
       "  </thead>\n",
       "  <tbody>\n",
       "    <tr>\n",
       "      <th>0</th>\n",
       "      <td>4        / 26</td>\n",
       "      <td>Soejima, Masazumi</td>\n",
       "      <td>Fukuoka City</td>\n",
       "      <td>M</td>\n",
       "      <td>41</td>\n",
       "      <td>83.45</td>\n",
       "      <td>W1</td>\n",
       "      <td>4        / 35</td>\n",
       "      <td>NaN</td>\n",
       "      <td>4        / 26</td>\n",
       "      <td>83.45</td>\n",
       "      <td>JPN</td>\n",
       "    </tr>\n",
       "    <tr>\n",
       "      <th>1</th>\n",
       "      <td>14       / 4335</td>\n",
       "      <td>Gebremariam, Gebregziabher</td>\n",
       "      <td>Tigray</td>\n",
       "      <td>M</td>\n",
       "      <td>27</td>\n",
       "      <td>142.93</td>\n",
       "      <td>2</td>\n",
       "      <td>14       / 21616</td>\n",
       "      <td>NaN</td>\n",
       "      <td>14       / 12621</td>\n",
       "      <td>142.93</td>\n",
       "      <td>ETH</td>\n",
       "    </tr>\n",
       "    <tr>\n",
       "      <th>2</th>\n",
       "      <td>6        / 26</td>\n",
       "      <td>Van Dyk, Ernst F.</td>\n",
       "      <td>Paarl</td>\n",
       "      <td>M</td>\n",
       "      <td>39</td>\n",
       "      <td>84.38</td>\n",
       "      <td>W2</td>\n",
       "      <td>6        / 35</td>\n",
       "      <td>NaN</td>\n",
       "      <td>6        / 26</td>\n",
       "      <td>84.38</td>\n",
       "      <td>RSA</td>\n",
       "    </tr>\n",
       "    <tr>\n",
       "      <th>3</th>\n",
       "      <td>2        / 26</td>\n",
       "      <td>Fearnley, Kurt H.</td>\n",
       "      <td>Hamilton</td>\n",
       "      <td>M</td>\n",
       "      <td>31</td>\n",
       "      <td>81.65</td>\n",
       "      <td>W3</td>\n",
       "      <td>2        / 35</td>\n",
       "      <td>NaN</td>\n",
       "      <td>2        / 26</td>\n",
       "      <td>81.65</td>\n",
       "      <td>AUS</td>\n",
       "    </tr>\n",
       "    <tr>\n",
       "      <th>4</th>\n",
       "      <td>3        / 26</td>\n",
       "      <td>Hokinoue, Kota</td>\n",
       "      <td>Iizuka</td>\n",
       "      <td>M</td>\n",
       "      <td>38</td>\n",
       "      <td>83.43</td>\n",
       "      <td>W4</td>\n",
       "      <td>3        / 35</td>\n",
       "      <td>NaN</td>\n",
       "      <td>3        / 26</td>\n",
       "      <td>83.43</td>\n",
       "      <td>JPN</td>\n",
       "    </tr>\n",
       "  </tbody>\n",
       "</table>\n",
       "</div>"
      ],
      "text/plain": [
       "          division                        name          city gender  age  \\\n",
       "0    4        / 26           Soejima, Masazumi  Fukuoka City      M   41   \n",
       "1  14       / 4335  Gebremariam, Gebregziabher        Tigray      M   27   \n",
       "2    6        / 26           Van Dyk, Ernst F.         Paarl      M   39   \n",
       "3    2        / 26           Fearnley, Kurt H.      Hamilton      M   31   \n",
       "4    3        / 26              Hokinoue, Kota        Iizuka      M   38   \n",
       "\n",
       "  official bib           overall state         genderdiv     net country  \n",
       "0    83.45  W1     4        / 35   NaN     4        / 26   83.45     JPN  \n",
       "1   142.93   2  14       / 21616   NaN  14       / 12621  142.93     ETH  \n",
       "2    84.38  W2     6        / 35   NaN     6        / 26   84.38     RSA  \n",
       "3    81.65  W3     2        / 35   NaN     2        / 26   81.65     AUS  \n",
       "4    83.43  W4     3        / 35   NaN     3        / 26   83.43     JPN  "
      ]
     },
     "execution_count": 3,
     "metadata": {},
     "output_type": "execute_result"
    }
   ],
   "source": [
    "dt.head(5)"
   ]
  },
  {
   "cell_type": "markdown",
   "metadata": {},
   "source": [
    "the column 'division','overall','genderdiv'  is stand for the participant position in the race based on gender,kind of race.\n",
    "from the information i found on the internet , bib is the id of participant based on kind of race.\n",
    "W is for wheelchair. \n",
    "F is for female running.\n",
    "and only number is male running."
   ]
  },
  {
   "cell_type": "code",
   "execution_count": 4,
   "metadata": {},
   "outputs": [
    {
     "data": {
      "text/plain": [
       "division      object\n",
       "name          object\n",
       "city          object\n",
       "gender        object\n",
       "age            int64\n",
       "official      object\n",
       "bib           object\n",
       "overall       object\n",
       "state         object\n",
       "genderdiv     object\n",
       "net          float64\n",
       "country       object\n",
       "dtype: object"
      ]
     },
     "execution_count": 4,
     "metadata": {},
     "output_type": "execute_result"
    }
   ],
   "source": [
    "dt.dtypes"
   ]
  },
  {
   "cell_type": "markdown",
   "metadata": {},
   "source": [
    "From the data . i see the time they finish marathon is 'official' column , but it in object format , so i will change it to number . \n",
    "i have my focus in 'age' and 'official' and i have a hypothesize that 'official' is different with group of 'age'. "
   ]
  },
  {
   "cell_type": "markdown",
   "metadata": {},
   "source": [
    "Change the 'official' type from object to number."
   ]
  },
  {
   "cell_type": "code",
   "execution_count": 11,
   "metadata": {},
   "outputs": [],
   "source": [
    "dt['official']=dt['official'].apply(pd.to_numeric, errors = 'coerce')"
   ]
  },
  {
   "cell_type": "code",
   "execution_count": 12,
   "metadata": {},
   "outputs": [
    {
     "data": {
      "text/html": [
       "<div>\n",
       "<style scoped>\n",
       "    .dataframe tbody tr th:only-of-type {\n",
       "        vertical-align: middle;\n",
       "    }\n",
       "\n",
       "    .dataframe tbody tr th {\n",
       "        vertical-align: top;\n",
       "    }\n",
       "\n",
       "    .dataframe thead th {\n",
       "        text-align: right;\n",
       "    }\n",
       "</style>\n",
       "<table border=\"1\" class=\"dataframe\">\n",
       "  <thead>\n",
       "    <tr style=\"text-align: right;\">\n",
       "      <th></th>\n",
       "      <th>age</th>\n",
       "      <th>official</th>\n",
       "      <th>net</th>\n",
       "    </tr>\n",
       "  </thead>\n",
       "  <tbody>\n",
       "    <tr>\n",
       "      <th>count</th>\n",
       "      <td>21652.000000</td>\n",
       "      <td>21576.000000</td>\n",
       "      <td>21652.00000</td>\n",
       "    </tr>\n",
       "    <tr>\n",
       "      <th>mean</th>\n",
       "      <td>41.836135</td>\n",
       "      <td>262.798014</td>\n",
       "      <td>258.64258</td>\n",
       "    </tr>\n",
       "    <tr>\n",
       "      <th>std</th>\n",
       "      <td>10.858308</td>\n",
       "      <td>50.383191</td>\n",
       "      <td>49.94535</td>\n",
       "    </tr>\n",
       "    <tr>\n",
       "      <th>min</th>\n",
       "      <td>18.000000</td>\n",
       "      <td>78.420000</td>\n",
       "      <td>78.42000</td>\n",
       "    </tr>\n",
       "    <tr>\n",
       "      <th>25%</th>\n",
       "      <td>33.000000</td>\n",
       "      <td>228.645000</td>\n",
       "      <td>224.63000</td>\n",
       "    </tr>\n",
       "    <tr>\n",
       "      <th>50%</th>\n",
       "      <td>42.000000</td>\n",
       "      <td>255.720000</td>\n",
       "      <td>251.07500</td>\n",
       "    </tr>\n",
       "    <tr>\n",
       "      <th>75%</th>\n",
       "      <td>50.000000</td>\n",
       "      <td>290.630000</td>\n",
       "      <td>285.53000</td>\n",
       "    </tr>\n",
       "    <tr>\n",
       "      <th>max</th>\n",
       "      <td>83.000000</td>\n",
       "      <td>475.320000</td>\n",
       "      <td>570.27000</td>\n",
       "    </tr>\n",
       "  </tbody>\n",
       "</table>\n",
       "</div>"
      ],
      "text/plain": [
       "                age      official          net\n",
       "count  21652.000000  21576.000000  21652.00000\n",
       "mean      41.836135    262.798014    258.64258\n",
       "std       10.858308     50.383191     49.94535\n",
       "min       18.000000     78.420000     78.42000\n",
       "25%       33.000000    228.645000    224.63000\n",
       "50%       42.000000    255.720000    251.07500\n",
       "75%       50.000000    290.630000    285.53000\n",
       "max       83.000000    475.320000    570.27000"
      ]
     },
     "execution_count": 12,
     "metadata": {},
     "output_type": "execute_result"
    }
   ],
   "source": [
    "dt.describe()"
   ]
  },
  {
   "cell_type": "markdown",
   "metadata": {},
   "source": [
    "From describe table we can clearly see that 75% of participant have age around 50 and the limit age to join the race is above 18 yrs, no upper limit for age <br>\n",
    "And the count on official is different so i drop all drow have null value in official column. <br>"
   ]
  },
  {
   "cell_type": "code",
   "execution_count": 8,
   "metadata": {},
   "outputs": [],
   "source": [
    "X.dropna(subset=['official'],inplace=True)"
   ]
  },
  {
   "cell_type": "markdown",
   "metadata": {},
   "source": [
    "Now i will do and k-mean clustering between 'age' and 'official'\n",
    "But i want to test the efficiency for different number of clusters , i will use an loop to run k-mean with different number of clusters and choose the best case based on the silhouette score."
   ]
  },
  {
   "cell_type": "code",
   "execution_count": 7,
   "metadata": {},
   "outputs": [],
   "source": [
    "X=pd.concat([dt['official'],dt['age']],axis=1)"
   ]
  },
  {
   "cell_type": "markdown",
   "metadata": {},
   "source": [
    "### 1/ K-means clustering."
   ]
  },
  {
   "cell_type": "code",
   "execution_count": null,
   "metadata": {
    "scrolled": true
   },
   "outputs": [],
   "source": [
    "clusters=[2,3,4,5,6,7,8]\n",
    "a=X.values\n",
    "for number in clusters:\n",
    "    kmeans = KMeans(number, random_state=0)\n",
    "    result = kmeans.fit_predict(a)\n",
    "    silhouette_avg = silhouette_score(a, result)\n",
    "    fig, (ax2) = plt.subplots(1)\n",
    "    # 2nd Plot showing the actual clusters formed\n",
    "    colors = cm.spectral(result.astype(float) / number)\n",
    "    ax2.scatter(a[:, 0], a[:, 1], marker='.', s=30, lw=0, alpha=0.7,\n",
    "                c=colors, edgecolor='k')\n",
    "    # Labeling the clusters\n",
    "    centers = kmeans.cluster_centers_\n",
    "    # Draw white circles at cluster centers\n",
    "    ax2.scatter(centers[:, 0], centers[:, 1], marker='o',\n",
    "                c=\"white\", alpha=1, s=200, edgecolor='k')\n",
    "    print(\"For n_clusters =\", number,\"The average silhouette_score is :\", silhouette_avg)\n",
    "    for i, c in enumerate(centers):\n",
    "        ax2.scatter(c[0], c[1], marker='$%d$' % i, alpha=1,\n",
    "                    s=50, edgecolor='k')\n"
   ]
  },
  {
   "cell_type": "markdown",
   "metadata": {},
   "source": [
    "For n_clusters = 2 The average silhouette_score is : 0.5376479153093278 <br>\n",
    "For n_clusters = 3 The average silhouette_score is : 0.46776155873189174 <br>\n",
    "For n_clusters = 4 The average silhouette_score is : 0.4320362358070203 <br>\n",
    "For n_clusters = 5 The average silhouette_score is : 0.40735777139395873 <br>\n",
    "For n_clusters = 6 The average silhouette_score is : 0.38544754017254446 <br>\n",
    "For n_clusters = 7 The average silhouette_score is : 0.3662045066597228 <br>\n",
    "For n_clusters = 8 The average silhouette_score is : 0.34492257895003064 <br>"
   ]
  },
  {
   "cell_type": "markdown",
   "metadata": {},
   "source": [
    "From the result of silhouette_score we can see the best number of cluster for kmeans is 2."
   ]
  },
  {
   "cell_type": "markdown",
   "metadata": {},
   "source": [
    "### 2/ Mean Shift clustering."
   ]
  },
  {
   "cell_type": "code",
   "execution_count": null,
   "metadata": {},
   "outputs": [],
   "source": [
    "qt=[0.1,0.2]\n",
    "for quant in qt:\n",
    "    a=X.values\n",
    "    bandwidth = estimate_bandwidth(a, quantile=quant)\n",
    "    ms = MeanShift(bandwidth=bandwidth, bin_seeding=True)\n",
    "    result = ms.fit_predict(a)\n",
    "    silhouette_avg = silhouette_score(a, result)\n",
    "    print(\"For quantile =\", quant,\"The average silhouette_score is :\", silhouette_avg)"
   ]
  },
  {
   "cell_type": "markdown",
   "metadata": {},
   "source": [
    "For quantile = 0.1 The average silhouette_score is : 0.3747231056490832 <br>\n",
    "For quantile = 0.2 The average silhouette_score is : 0.37381604716089645 <br>"
   ]
  },
  {
   "cell_type": "markdown",
   "metadata": {},
   "source": [
    "For cluster using MeanShift , when i use quantile over 0.2 there are error on my model so i use only 0.1 and 0.2 for quantile , and the result show that for qualtile =0.1 the model are better. \n",
    "The result when compare with kmean is much lower."
   ]
  },
  {
   "cell_type": "markdown",
   "metadata": {},
   "source": [
    "### 3/ DBSCAN  Clustering."
   ]
  },
  {
   "cell_type": "markdown",
   "metadata": {},
   "source": [
    "Next,i will use the DBSCAN to cluster, with the change in eps parameter."
   ]
  },
  {
   "cell_type": "code",
   "execution_count": null,
   "metadata": {},
   "outputs": [],
   "source": [
    "a=X.values\n",
    "ep=[0.1,0.2,0.3,0.4,0.5,0.7,0.8,0.9]\n",
    "for i in ep:\n",
    "    db = DBSCAN(eps=i, min_samples=5)\n",
    "    result = db.fit_predict(a)\n",
    "    silhouette_avg = silhouette_score(a, result)\n",
    "    print(\"For eps=\",i,\"The average silhouette_score is :\", silhouette_avg)"
   ]
  },
  {
   "cell_type": "markdown",
   "metadata": {},
   "source": [
    "For eps= 0.1 The average silhouette_score is : -0.7454988600902304 <br>\n",
    "For eps= 0.2 The average silhouette_score is : -0.5500833114826047 <br>\n",
    "For eps= 0.3 The average silhouette_score is : -0.3732881664721746 <br>\n",
    "For eps= 0.4 The average silhouette_score is : -0.2826773969367739 <br>\n",
    "For eps= 0.5 The average silhouette_score is : -0.26260844237542424 <br>\n",
    "For eps= 0.7 The average silhouette_score is : -0.3335863605040074 <br>\n",
    "For eps= 0.8 The average silhouette_score is : -0.347475068082284 <br>\n",
    "For eps= 0.9 The average silhouette_score is : -0.39630005091769194 <br>"
   ]
  },
  {
   "cell_type": "markdown",
   "metadata": {},
   "source": [
    "the silhouette_score highest when eps=0.5, but in overall the score is still very low "
   ]
  },
  {
   "cell_type": "markdown",
   "metadata": {},
   "source": [
    "### 4/ Conclusion "
   ]
  },
  {
   "cell_type": "markdown",
   "metadata": {},
   "source": [
    "After using 3 method of clustering , i see the K-means have highest silhouette_score and take short time to calculate. <br>\n",
    "For other methods like Affinity propagation and Spectral clustering , my colab notebook return runtime died so i cant show the result. <br>"
   ]
  },
  {
   "cell_type": "code",
   "execution_count": null,
   "metadata": {},
   "outputs": [],
   "source": []
  }
 ],
 "metadata": {
  "kernelspec": {
   "display_name": "Python 3",
   "language": "python",
   "name": "python3"
  },
  "language_info": {
   "codemirror_mode": {
    "name": "ipython",
    "version": 3
   },
   "file_extension": ".py",
   "mimetype": "text/x-python",
   "name": "python",
   "nbconvert_exporter": "python",
   "pygments_lexer": "ipython3",
   "version": "3.6.4"
  }
 },
 "nbformat": 4,
 "nbformat_minor": 2
}
