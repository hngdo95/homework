{
 "cells": [
  {
   "cell_type": "markdown",
   "metadata": {},
   "source": [
    "Introduction :\n",
    "The dataset include 2 csv file , the first one is tmdb_5000_movies and others is tmdb_5000_credit . First file describe about information of nearly 5000 movies .In detail ,it provide the budget, release date,revenue,runtime...\n",
    "In the second csv file ,it focus about credit of movies and the crew participate in that movie."
   ]
  },
  {
   "cell_type": "code",
   "execution_count": 1,
   "metadata": {},
   "outputs": [],
   "source": [
    "import pandas as pd"
   ]
  },
  {
   "cell_type": "code",
   "execution_count": 60,
   "metadata": {},
   "outputs": [],
   "source": [
    "df1=pd.read_csv('E:\\\\5000_movies.csv')"
   ]
  },
  {
   "cell_type": "code",
   "execution_count": 34,
   "metadata": {},
   "outputs": [
    {
     "data": {
      "text/html": [
       "<div>\n",
       "<style scoped>\n",
       "    .dataframe tbody tr th:only-of-type {\n",
       "        vertical-align: middle;\n",
       "    }\n",
       "\n",
       "    .dataframe tbody tr th {\n",
       "        vertical-align: top;\n",
       "    }\n",
       "\n",
       "    .dataframe thead th {\n",
       "        text-align: right;\n",
       "    }\n",
       "</style>\n",
       "<table border=\"1\" class=\"dataframe\">\n",
       "  <thead>\n",
       "    <tr style=\"text-align: right;\">\n",
       "      <th></th>\n",
       "      <th>budget</th>\n",
       "      <th>genres</th>\n",
       "      <th>homepage</th>\n",
       "      <th>id</th>\n",
       "      <th>keywords</th>\n",
       "      <th>original_language</th>\n",
       "      <th>original_title</th>\n",
       "      <th>overview</th>\n",
       "      <th>popularity</th>\n",
       "      <th>production_companies</th>\n",
       "      <th>production_countries</th>\n",
       "      <th>release_date</th>\n",
       "      <th>revenue</th>\n",
       "      <th>runtime</th>\n",
       "      <th>spoken_languages</th>\n",
       "      <th>status</th>\n",
       "      <th>tagline</th>\n",
       "      <th>title</th>\n",
       "      <th>vote_average</th>\n",
       "      <th>vote_count</th>\n",
       "    </tr>\n",
       "  </thead>\n",
       "  <tbody>\n",
       "    <tr>\n",
       "      <th>0</th>\n",
       "      <td>237000000</td>\n",
       "      <td>28|Action|12|Adventure|14|Fantasy|878|Science ...</td>\n",
       "      <td>http://www.avatarmovie.com/</td>\n",
       "      <td>19995</td>\n",
       "      <td>1463|culture clash|2964|future|3386|space war|...</td>\n",
       "      <td>en</td>\n",
       "      <td>Avatar</td>\n",
       "      <td>In the 22nd century, a paraplegic Marine is di...</td>\n",
       "      <td>150.437577</td>\n",
       "      <td>Ingenious Film Partners|289|Twentieth Century ...</td>\n",
       "      <td>US|United States of America|GB|United Kingdom</td>\n",
       "      <td>12/10/2009</td>\n",
       "      <td>2787965087</td>\n",
       "      <td>162.0</td>\n",
       "      <td>en|English|es|Español</td>\n",
       "      <td>Released</td>\n",
       "      <td>Enter the World of Pandora.</td>\n",
       "      <td>Avatar</td>\n",
       "      <td>7.2</td>\n",
       "      <td>11800</td>\n",
       "    </tr>\n",
       "    <tr>\n",
       "      <th>1</th>\n",
       "      <td>300000000</td>\n",
       "      <td>12|Adventure|14|Fantasy|28|Action</td>\n",
       "      <td>http://disney.go.com/disneypictures/pirates/</td>\n",
       "      <td>285</td>\n",
       "      <td>270|ocean|726|drug abuse|911|exotic island|131...</td>\n",
       "      <td>en</td>\n",
       "      <td>Pirates of the Caribbean: At World's End</td>\n",
       "      <td>Captain Barbossa, long believed to be dead, ha...</td>\n",
       "      <td>139.082615</td>\n",
       "      <td>Walt Disney Pictures|2|Jerry Bruckheimer Films...</td>\n",
       "      <td>US|United States of America</td>\n",
       "      <td>5/19/2007</td>\n",
       "      <td>961000000</td>\n",
       "      <td>169.0</td>\n",
       "      <td>en|English</td>\n",
       "      <td>Released</td>\n",
       "      <td>At the end of the world, the adventure begins.</td>\n",
       "      <td>Pirates of the Caribbean: At World's End</td>\n",
       "      <td>6.9</td>\n",
       "      <td>4500</td>\n",
       "    </tr>\n",
       "    <tr>\n",
       "      <th>2</th>\n",
       "      <td>245000000</td>\n",
       "      <td>28|Action|12|Adventure|80|Crime</td>\n",
       "      <td>http://www.sonypictures.com/movies/spectre/</td>\n",
       "      <td>206647</td>\n",
       "      <td>470|spy|818|based on novel|4289|secret agent|9...</td>\n",
       "      <td>en</td>\n",
       "      <td>Spectre</td>\n",
       "      <td>A cryptic message from Bond’s past sends him o...</td>\n",
       "      <td>107.376788</td>\n",
       "      <td>Columbia Pictures|5|Danjaq|10761|B24|69434</td>\n",
       "      <td>GB|United Kingdom|US|United States of America</td>\n",
       "      <td>10/26/2015</td>\n",
       "      <td>880674609</td>\n",
       "      <td>148.0</td>\n",
       "      <td>fr|Français|en|English|es|Español|it|Italiano|...</td>\n",
       "      <td>Released</td>\n",
       "      <td>A Plan No One Escapes</td>\n",
       "      <td>Spectre</td>\n",
       "      <td>6.3</td>\n",
       "      <td>4466</td>\n",
       "    </tr>\n",
       "    <tr>\n",
       "      <th>3</th>\n",
       "      <td>250000000</td>\n",
       "      <td>28|Action|80|Crime|18|Drama|53|Thriller</td>\n",
       "      <td>http://www.thedarkknightrises.com/</td>\n",
       "      <td>49026</td>\n",
       "      <td>849|dc comics|853|crime fighter|949|terrorist|...</td>\n",
       "      <td>en</td>\n",
       "      <td>The Dark Knight Rises</td>\n",
       "      <td>Following the death of District Attorney Harve...</td>\n",
       "      <td>112.312950</td>\n",
       "      <td>Legendary Pictures|923|Warner Bros.|6194|DC En...</td>\n",
       "      <td>US|United States of America</td>\n",
       "      <td>7/16/2012</td>\n",
       "      <td>1084939099</td>\n",
       "      <td>165.0</td>\n",
       "      <td>en|English</td>\n",
       "      <td>Released</td>\n",
       "      <td>The Legend Ends</td>\n",
       "      <td>The Dark Knight Rises</td>\n",
       "      <td>7.6</td>\n",
       "      <td>9106</td>\n",
       "    </tr>\n",
       "    <tr>\n",
       "      <th>4</th>\n",
       "      <td>260000000</td>\n",
       "      <td>28|Action|12|Adventure|878|Science Fiction</td>\n",
       "      <td>http://movies.disney.com/john-carter</td>\n",
       "      <td>49529</td>\n",
       "      <td>818|based on novel|839|mars|1456|medallion|380...</td>\n",
       "      <td>en</td>\n",
       "      <td>John Carter</td>\n",
       "      <td>John Carter is a war-weary, former military ca...</td>\n",
       "      <td>43.926995</td>\n",
       "      <td>Walt Disney Pictures|2</td>\n",
       "      <td>US|United States of America</td>\n",
       "      <td>3/7/2012</td>\n",
       "      <td>284139100</td>\n",
       "      <td>132.0</td>\n",
       "      <td>en|English</td>\n",
       "      <td>Released</td>\n",
       "      <td>Lost in our world, found in another.</td>\n",
       "      <td>John Carter</td>\n",
       "      <td>6.1</td>\n",
       "      <td>2124</td>\n",
       "    </tr>\n",
       "  </tbody>\n",
       "</table>\n",
       "</div>"
      ],
      "text/plain": [
       "      budget                                             genres  \\\n",
       "0  237000000  28|Action|12|Adventure|14|Fantasy|878|Science ...   \n",
       "1  300000000                  12|Adventure|14|Fantasy|28|Action   \n",
       "2  245000000                    28|Action|12|Adventure|80|Crime   \n",
       "3  250000000            28|Action|80|Crime|18|Drama|53|Thriller   \n",
       "4  260000000         28|Action|12|Adventure|878|Science Fiction   \n",
       "\n",
       "                                       homepage      id  \\\n",
       "0                   http://www.avatarmovie.com/   19995   \n",
       "1  http://disney.go.com/disneypictures/pirates/     285   \n",
       "2   http://www.sonypictures.com/movies/spectre/  206647   \n",
       "3            http://www.thedarkknightrises.com/   49026   \n",
       "4          http://movies.disney.com/john-carter   49529   \n",
       "\n",
       "                                            keywords original_language  \\\n",
       "0  1463|culture clash|2964|future|3386|space war|...                en   \n",
       "1  270|ocean|726|drug abuse|911|exotic island|131...                en   \n",
       "2  470|spy|818|based on novel|4289|secret agent|9...                en   \n",
       "3  849|dc comics|853|crime fighter|949|terrorist|...                en   \n",
       "4  818|based on novel|839|mars|1456|medallion|380...                en   \n",
       "\n",
       "                             original_title  \\\n",
       "0                                    Avatar   \n",
       "1  Pirates of the Caribbean: At World's End   \n",
       "2                                   Spectre   \n",
       "3                     The Dark Knight Rises   \n",
       "4                               John Carter   \n",
       "\n",
       "                                            overview  popularity  \\\n",
       "0  In the 22nd century, a paraplegic Marine is di...  150.437577   \n",
       "1  Captain Barbossa, long believed to be dead, ha...  139.082615   \n",
       "2  A cryptic message from Bond’s past sends him o...  107.376788   \n",
       "3  Following the death of District Attorney Harve...  112.312950   \n",
       "4  John Carter is a war-weary, former military ca...   43.926995   \n",
       "\n",
       "                                production_companies  \\\n",
       "0  Ingenious Film Partners|289|Twentieth Century ...   \n",
       "1  Walt Disney Pictures|2|Jerry Bruckheimer Films...   \n",
       "2         Columbia Pictures|5|Danjaq|10761|B24|69434   \n",
       "3  Legendary Pictures|923|Warner Bros.|6194|DC En...   \n",
       "4                             Walt Disney Pictures|2   \n",
       "\n",
       "                            production_countries release_date     revenue  \\\n",
       "0  US|United States of America|GB|United Kingdom   12/10/2009  2787965087   \n",
       "1                    US|United States of America    5/19/2007   961000000   \n",
       "2  GB|United Kingdom|US|United States of America   10/26/2015   880674609   \n",
       "3                    US|United States of America    7/16/2012  1084939099   \n",
       "4                    US|United States of America     3/7/2012   284139100   \n",
       "\n",
       "   runtime                                   spoken_languages    status  \\\n",
       "0    162.0                              en|English|es|Español  Released   \n",
       "1    169.0                                         en|English  Released   \n",
       "2    148.0  fr|Français|en|English|es|Español|it|Italiano|...  Released   \n",
       "3    165.0                                         en|English  Released   \n",
       "4    132.0                                         en|English  Released   \n",
       "\n",
       "                                          tagline  \\\n",
       "0                     Enter the World of Pandora.   \n",
       "1  At the end of the world, the adventure begins.   \n",
       "2                           A Plan No One Escapes   \n",
       "3                                 The Legend Ends   \n",
       "4            Lost in our world, found in another.   \n",
       "\n",
       "                                      title  vote_average  vote_count  \n",
       "0                                    Avatar           7.2       11800  \n",
       "1  Pirates of the Caribbean: At World's End           6.9        4500  \n",
       "2                                   Spectre           6.3        4466  \n",
       "3                     The Dark Knight Rises           7.6        9106  \n",
       "4                               John Carter           6.1        2124  "
      ]
     },
     "execution_count": 34,
     "metadata": {},
     "output_type": "execute_result"
    }
   ],
   "source": [
    "df1.head()"
   ]
  },
  {
   "cell_type": "code",
   "execution_count": 35,
   "metadata": {},
   "outputs": [
    {
     "data": {
      "text/plain": [
       "Index(['budget', 'genres', 'homepage', 'id', 'keywords', 'original_language',\n",
       "       'original_title', 'overview', 'popularity', 'production_companies',\n",
       "       'production_countries', 'release_date', 'revenue', 'runtime',\n",
       "       'spoken_languages', 'status', 'tagline', 'title', 'vote_average',\n",
       "       'vote_count'],\n",
       "      dtype='object')"
      ]
     },
     "execution_count": 35,
     "metadata": {},
     "output_type": "execute_result"
    }
   ],
   "source": [
    "df1.columns"
   ]
  },
  {
   "cell_type": "code",
   "execution_count": 61,
   "metadata": {},
   "outputs": [],
   "source": [
    "df1 = df1.astype(object).where(pd.notnull(df1),None)\n"
   ]
  },
  {
   "cell_type": "code",
   "execution_count": 62,
   "metadata": {},
   "outputs": [
    {
     "data": {
      "text/plain": [
       "en|English                                                                     3171\n",
       "en|English|es|Español                                                           127\n",
       "en|English|fr|Français                                                          114\n",
       "es|Español|en|English                                                            54\n",
       "en|English|de|Deutsch                                                            53\n",
       "en|English|it|Italiano                                                           51\n",
       "en|English|ru|Pусский                                                            50\n",
       "fr|Français                                                                      49\n",
       "en|English|ja|日本語                                                                23\n",
       "fr|Français|en|English                                                           23\n",
       "es|Español                                                                       23\n",
       "en|English|pl|Polski                                                             22\n",
       "en|English|pt|Português                                                          22\n",
       "en|English|zh|普通话                                                                19\n",
       "it|Italiano|en|English                                                           17\n",
       "hi|हिन्दी                                                                        15\n",
       "en|English|th|ภาษาไทย                                                            15\n",
       "de|Deutsch                                                                       14\n",
       "cs|Český|en|English                                                              14\n",
       "en|English|fr|Français|de|Deutsch                                                14\n",
       "zh|普通话                                                                           13\n",
       "ru|Pусский                                                                       12\n",
       "en|English|hi|हिन्दी                                                             12\n",
       "de|Deutsch|en|English                                                            12\n",
       "en|English|fr|Français|it|Italiano                                               12\n",
       "ru|Pусский|en|English                                                            11\n",
       "en|English|hu|Magyar                                                             11\n",
       "en|English|fr|Français|ru|Pусский                                                11\n",
       "ja|日本語                                                                           11\n",
       "en|English|he|עִבְרִית                                                            9\n",
       "                                                                               ... \n",
       "en|English|fa|فارسی|es|Español|zh|普通话|ko|한국어/조선말                                  1\n",
       "de|Deutsch|en|English|sv|svenska                                                  1\n",
       "en|English|fr|Français|de|Deutsch|it|Italiano|yi|                                 1\n",
       "he|עִבְרִית|la|Latin                                                              1\n",
       "la|Latin|ro|Română|bg|български език|el|ελληνικά|en|English                       1\n",
       "en|English|fr|Français|ur|اردو|zh|普通话                                             1\n",
       "en|English|es|Español|sv|svenska|th|ภาษาไทย                                       1\n",
       "en|English|it|Italiano|ru|Pусский|es|Español|uk|Український                       1\n",
       "ru|Pусский|en|English|es|Español                                                  1\n",
       "de|Deutsch|cn|广州话 / 廣州話|en|English|zh|普通话|ru|Pусский                              1\n",
       "cs|Český|en|English|fr|Français|de|Deutsch|it|Italiano|pl|Polski|es|Español       1\n",
       "en|English|af|Afrikaans|es|Español                                                1\n",
       "en|English|am||km||de|Deutsch|ce|                                                 1\n",
       "he|עִבְרִית|en|English|es|Español                                                 1\n",
       "en|English|es|Español|fr|Français|ru|Pусский                                      1\n",
       "en|English|to|                                                                    1\n",
       "en|English|es|Español|ja|日本語                                                      1\n",
       "fr|Français|en|English|th|ภาษาไทย                                                 1\n",
       "ar|العربية|en|English|fr|Français|ko|한국어/조선말                                      1\n",
       "en|English|ko|한국어/조선말|fr|Français                                                 1\n",
       "en|English|ru|Pусский|de|Deutsch|it|Italiano                                      1\n",
       "en|English|la|Latin|es|Español                                                    1\n",
       "ar|العربية|en|English|it|Italiano                                                 1\n",
       "en|English|fr|Français|vi|Tiếng Việt                                              1\n",
       "en|English|bo||pa|ਪੰਜਾਬੀ|de|Deutsch                                               1\n",
       "en|English|no|Norsk|fr|Français|es|Español                                        1\n",
       "af|Afrikaans|ny||st||xh||zu|isiZulu|en|English                                    1\n",
       "en|English|it|Italiano|la|Latin|fr|Français|de|Deutsch|zh|普通话                     1\n",
       "de|Deutsch|ja|日本語|en|English                                                      1\n",
       "en|English|ur|اردو|zh|普通话                                                         1\n",
       "Name: spoken_languages, Length: 543, dtype: int64"
      ]
     },
     "execution_count": 62,
     "metadata": {},
     "output_type": "execute_result"
    }
   ],
   "source": [
    "df1[\"spoken_languages\"].value_counts()"
   ]
  },
  {
   "cell_type": "code",
   "execution_count": 63,
   "metadata": {},
   "outputs": [],
   "source": [
    " df1[\"genres\"] = df1[\"genres\"].astype('category')"
   ]
  },
  {
   "cell_type": "code",
   "execution_count": 64,
   "metadata": {},
   "outputs": [],
   "source": [
    "df1[\"genres_code\"] = df1[\"genres\"].cat.codes\n"
   ]
  },
  {
   "cell_type": "code",
   "execution_count": 65,
   "metadata": {},
   "outputs": [
    {
     "data": {
      "text/html": [
       "<div>\n",
       "<style scoped>\n",
       "    .dataframe tbody tr th:only-of-type {\n",
       "        vertical-align: middle;\n",
       "    }\n",
       "\n",
       "    .dataframe tbody tr th {\n",
       "        vertical-align: top;\n",
       "    }\n",
       "\n",
       "    .dataframe thead th {\n",
       "        text-align: right;\n",
       "    }\n",
       "</style>\n",
       "<table border=\"1\" class=\"dataframe\">\n",
       "  <thead>\n",
       "    <tr style=\"text-align: right;\">\n",
       "      <th></th>\n",
       "      <th>budget</th>\n",
       "      <th>genres</th>\n",
       "      <th>homepage</th>\n",
       "      <th>id</th>\n",
       "      <th>keywords</th>\n",
       "      <th>original_language</th>\n",
       "      <th>original_title</th>\n",
       "      <th>overview</th>\n",
       "      <th>popularity</th>\n",
       "      <th>production_companies</th>\n",
       "      <th>...</th>\n",
       "      <th>release_date</th>\n",
       "      <th>revenue</th>\n",
       "      <th>runtime</th>\n",
       "      <th>spoken_languages</th>\n",
       "      <th>status</th>\n",
       "      <th>tagline</th>\n",
       "      <th>title</th>\n",
       "      <th>vote_average</th>\n",
       "      <th>vote_count</th>\n",
       "      <th>genres_code</th>\n",
       "    </tr>\n",
       "  </thead>\n",
       "  <tbody>\n",
       "    <tr>\n",
       "      <th>0</th>\n",
       "      <td>237000000</td>\n",
       "      <td>28|Action|12|Adventure|14|Fantasy|878|Science ...</td>\n",
       "      <td>http://www.avatarmovie.com/</td>\n",
       "      <td>19995</td>\n",
       "      <td>1463|culture clash|2964|future|3386|space war|...</td>\n",
       "      <td>en</td>\n",
       "      <td>Avatar</td>\n",
       "      <td>In the 22nd century, a paraplegic Marine is di...</td>\n",
       "      <td>150.438</td>\n",
       "      <td>Ingenious Film Partners|289|Twentieth Century ...</td>\n",
       "      <td>...</td>\n",
       "      <td>12/10/2009</td>\n",
       "      <td>2787965087</td>\n",
       "      <td>162</td>\n",
       "      <td>en|English|es|Español</td>\n",
       "      <td>Released</td>\n",
       "      <td>Enter the World of Pandora.</td>\n",
       "      <td>Avatar</td>\n",
       "      <td>7.2</td>\n",
       "      <td>11800</td>\n",
       "      <td>609</td>\n",
       "    </tr>\n",
       "    <tr>\n",
       "      <th>1</th>\n",
       "      <td>300000000</td>\n",
       "      <td>12|Adventure|14|Fantasy|28|Action</td>\n",
       "      <td>http://disney.go.com/disneypictures/pirates/</td>\n",
       "      <td>285</td>\n",
       "      <td>270|ocean|726|drug abuse|911|exotic island|131...</td>\n",
       "      <td>en</td>\n",
       "      <td>Pirates of the Caribbean: At World's End</td>\n",
       "      <td>Captain Barbossa, long believed to be dead, ha...</td>\n",
       "      <td>139.083</td>\n",
       "      <td>Walt Disney Pictures|2|Jerry Bruckheimer Films...</td>\n",
       "      <td>...</td>\n",
       "      <td>5/19/2007</td>\n",
       "      <td>961000000</td>\n",
       "      <td>169</td>\n",
       "      <td>en|English</td>\n",
       "      <td>Released</td>\n",
       "      <td>At the end of the world, the adventure begins.</td>\n",
       "      <td>Pirates of the Caribbean: At World's End</td>\n",
       "      <td>6.9</td>\n",
       "      <td>4500</td>\n",
       "      <td>135</td>\n",
       "    </tr>\n",
       "    <tr>\n",
       "      <th>2</th>\n",
       "      <td>245000000</td>\n",
       "      <td>28|Action|12|Adventure|80|Crime</td>\n",
       "      <td>http://www.sonypictures.com/movies/spectre/</td>\n",
       "      <td>206647</td>\n",
       "      <td>470|spy|818|based on novel|4289|secret agent|9...</td>\n",
       "      <td>en</td>\n",
       "      <td>Spectre</td>\n",
       "      <td>A cryptic message from Bond’s past sends him o...</td>\n",
       "      <td>107.377</td>\n",
       "      <td>Columbia Pictures|5|Danjaq|10761|B24|69434</td>\n",
       "      <td>...</td>\n",
       "      <td>10/26/2015</td>\n",
       "      <td>880674609</td>\n",
       "      <td>148</td>\n",
       "      <td>fr|Français|en|English|es|Español|it|Italiano|...</td>\n",
       "      <td>Released</td>\n",
       "      <td>A Plan No One Escapes</td>\n",
       "      <td>Spectre</td>\n",
       "      <td>6.3</td>\n",
       "      <td>4466</td>\n",
       "      <td>664</td>\n",
       "    </tr>\n",
       "    <tr>\n",
       "      <th>3</th>\n",
       "      <td>250000000</td>\n",
       "      <td>28|Action|80|Crime|18|Drama|53|Thriller</td>\n",
       "      <td>http://www.thedarkknightrises.com/</td>\n",
       "      <td>49026</td>\n",
       "      <td>849|dc comics|853|crime fighter|949|terrorist|...</td>\n",
       "      <td>en</td>\n",
       "      <td>The Dark Knight Rises</td>\n",
       "      <td>Following the death of District Attorney Harve...</td>\n",
       "      <td>112.313</td>\n",
       "      <td>Legendary Pictures|923|Warner Bros.|6194|DC En...</td>\n",
       "      <td>...</td>\n",
       "      <td>7/16/2012</td>\n",
       "      <td>1084939099</td>\n",
       "      <td>165</td>\n",
       "      <td>en|English</td>\n",
       "      <td>Released</td>\n",
       "      <td>The Legend Ends</td>\n",
       "      <td>The Dark Knight Rises</td>\n",
       "      <td>7.6</td>\n",
       "      <td>9106</td>\n",
       "      <td>793</td>\n",
       "    </tr>\n",
       "    <tr>\n",
       "      <th>4</th>\n",
       "      <td>260000000</td>\n",
       "      <td>28|Action|12|Adventure|878|Science Fiction</td>\n",
       "      <td>http://movies.disney.com/john-carter</td>\n",
       "      <td>49529</td>\n",
       "      <td>818|based on novel|839|mars|1456|medallion|380...</td>\n",
       "      <td>en</td>\n",
       "      <td>John Carter</td>\n",
       "      <td>John Carter is a war-weary, former military ca...</td>\n",
       "      <td>43.927</td>\n",
       "      <td>Walt Disney Pictures|2</td>\n",
       "      <td>...</td>\n",
       "      <td>3/7/2012</td>\n",
       "      <td>284139100</td>\n",
       "      <td>132</td>\n",
       "      <td>en|English</td>\n",
       "      <td>Released</td>\n",
       "      <td>Lost in our world, found in another.</td>\n",
       "      <td>John Carter</td>\n",
       "      <td>6.1</td>\n",
       "      <td>2124</td>\n",
       "      <td>676</td>\n",
       "    </tr>\n",
       "  </tbody>\n",
       "</table>\n",
       "<p>5 rows × 21 columns</p>\n",
       "</div>"
      ],
      "text/plain": [
       "      budget                                             genres  \\\n",
       "0  237000000  28|Action|12|Adventure|14|Fantasy|878|Science ...   \n",
       "1  300000000                  12|Adventure|14|Fantasy|28|Action   \n",
       "2  245000000                    28|Action|12|Adventure|80|Crime   \n",
       "3  250000000            28|Action|80|Crime|18|Drama|53|Thriller   \n",
       "4  260000000         28|Action|12|Adventure|878|Science Fiction   \n",
       "\n",
       "                                       homepage      id  \\\n",
       "0                   http://www.avatarmovie.com/   19995   \n",
       "1  http://disney.go.com/disneypictures/pirates/     285   \n",
       "2   http://www.sonypictures.com/movies/spectre/  206647   \n",
       "3            http://www.thedarkknightrises.com/   49026   \n",
       "4          http://movies.disney.com/john-carter   49529   \n",
       "\n",
       "                                            keywords original_language  \\\n",
       "0  1463|culture clash|2964|future|3386|space war|...                en   \n",
       "1  270|ocean|726|drug abuse|911|exotic island|131...                en   \n",
       "2  470|spy|818|based on novel|4289|secret agent|9...                en   \n",
       "3  849|dc comics|853|crime fighter|949|terrorist|...                en   \n",
       "4  818|based on novel|839|mars|1456|medallion|380...                en   \n",
       "\n",
       "                             original_title  \\\n",
       "0                                    Avatar   \n",
       "1  Pirates of the Caribbean: At World's End   \n",
       "2                                   Spectre   \n",
       "3                     The Dark Knight Rises   \n",
       "4                               John Carter   \n",
       "\n",
       "                                            overview popularity  \\\n",
       "0  In the 22nd century, a paraplegic Marine is di...    150.438   \n",
       "1  Captain Barbossa, long believed to be dead, ha...    139.083   \n",
       "2  A cryptic message from Bond’s past sends him o...    107.377   \n",
       "3  Following the death of District Attorney Harve...    112.313   \n",
       "4  John Carter is a war-weary, former military ca...     43.927   \n",
       "\n",
       "                                production_companies     ...     release_date  \\\n",
       "0  Ingenious Film Partners|289|Twentieth Century ...     ...       12/10/2009   \n",
       "1  Walt Disney Pictures|2|Jerry Bruckheimer Films...     ...        5/19/2007   \n",
       "2         Columbia Pictures|5|Danjaq|10761|B24|69434     ...       10/26/2015   \n",
       "3  Legendary Pictures|923|Warner Bros.|6194|DC En...     ...        7/16/2012   \n",
       "4                             Walt Disney Pictures|2     ...         3/7/2012   \n",
       "\n",
       "      revenue runtime                                   spoken_languages  \\\n",
       "0  2787965087     162                              en|English|es|Español   \n",
       "1   961000000     169                                         en|English   \n",
       "2   880674609     148  fr|Français|en|English|es|Español|it|Italiano|...   \n",
       "3  1084939099     165                                         en|English   \n",
       "4   284139100     132                                         en|English   \n",
       "\n",
       "     status                                         tagline  \\\n",
       "0  Released                     Enter the World of Pandora.   \n",
       "1  Released  At the end of the world, the adventure begins.   \n",
       "2  Released                           A Plan No One Escapes   \n",
       "3  Released                                 The Legend Ends   \n",
       "4  Released            Lost in our world, found in another.   \n",
       "\n",
       "                                      title vote_average vote_count  \\\n",
       "0                                    Avatar          7.2      11800   \n",
       "1  Pirates of the Caribbean: At World's End          6.9       4500   \n",
       "2                                   Spectre          6.3       4466   \n",
       "3                     The Dark Knight Rises          7.6       9106   \n",
       "4                               John Carter          6.1       2124   \n",
       "\n",
       "  genres_code  \n",
       "0         609  \n",
       "1         135  \n",
       "2         664  \n",
       "3         793  \n",
       "4         676  \n",
       "\n",
       "[5 rows x 21 columns]"
      ]
     },
     "execution_count": 65,
     "metadata": {},
     "output_type": "execute_result"
    }
   ],
   "source": [
    "df1.head()"
   ]
  },
  {
   "cell_type": "code",
   "execution_count": 66,
   "metadata": {},
   "outputs": [
    {
     "data": {
      "text/plain": [
       " 375     370\n",
       " 817     282\n",
       " 379     164\n",
       " 824     144\n",
       " 868     142\n",
       " 871     109\n",
       " 569      88\n",
       " 1163     68\n",
       " 543      64\n",
       " 500      62\n",
       " 471      46\n",
       " 1052     43\n",
       " 766      40\n",
       " 487      37\n",
       " 834      36\n",
       " 724      36\n",
       " 474      35\n",
       " 1041     33\n",
       " 798      30\n",
       " 920      30\n",
       "-1        28\n",
       " 520      26\n",
       " 793      25\n",
       " 328      25\n",
       " 376      24\n",
       " 208      24\n",
       " 967      23\n",
       " 586      23\n",
       " 751      22\n",
       " 590      21\n",
       "        ... \n",
       " 158       1\n",
       " 306       1\n",
       " 322       1\n",
       " 518       1\n",
       " 422       1\n",
       " 514       1\n",
       " 510       1\n",
       " 490       1\n",
       " 482       1\n",
       " 478       1\n",
       " 470       1\n",
       " 462       1\n",
       " 458       1\n",
       " 454       1\n",
       " 430       1\n",
       " 426       1\n",
       " 418       1\n",
       " 330       1\n",
       " 414       1\n",
       " 394       1\n",
       " 390       1\n",
       " 382       1\n",
       " 378       1\n",
       " 374       1\n",
       " 370       1\n",
       " 366       1\n",
       " 354       1\n",
       " 346       1\n",
       " 338       1\n",
       " 1173      1\n",
       "Name: genres_code, Length: 1175, dtype: int64"
      ]
     },
     "execution_count": 66,
     "metadata": {},
     "output_type": "execute_result"
    }
   ],
   "source": [
    "df1[\"genres_code\"].value_counts()"
   ]
  },
  {
   "cell_type": "code",
   "execution_count": 67,
   "metadata": {},
   "outputs": [
    {
     "data": {
      "text/plain": [
       "count    4803.000000\n",
       "mean      616.738913\n",
       "std       297.411487\n",
       "min        -1.000000\n",
       "25%       375.000000\n",
       "50%       609.000000\n",
       "75%       834.000000\n",
       "max      1173.000000\n",
       "Name: genres_code, dtype: float64"
      ]
     },
     "execution_count": 67,
     "metadata": {},
     "output_type": "execute_result"
    }
   ],
   "source": [
    "df1[\"genres_code\"].describe()"
   ]
  },
  {
   "cell_type": "code",
   "execution_count": 68,
   "metadata": {},
   "outputs": [],
   "source": [
    " df1[\"spoken_languages\"] = df1[\"spoken_languages\"].astype('category')\n",
    "    "
   ]
  },
  {
   "cell_type": "code",
   "execution_count": 69,
   "metadata": {},
   "outputs": [],
   "source": [
    "df1[\"spoken_languages_code\"] = df1[\"spoken_languages\"].cat.codes"
   ]
  },
  {
   "cell_type": "code",
   "execution_count": 70,
   "metadata": {},
   "outputs": [
    {
     "data": {
      "text/html": [
       "<div>\n",
       "<style scoped>\n",
       "    .dataframe tbody tr th:only-of-type {\n",
       "        vertical-align: middle;\n",
       "    }\n",
       "\n",
       "    .dataframe tbody tr th {\n",
       "        vertical-align: top;\n",
       "    }\n",
       "\n",
       "    .dataframe thead th {\n",
       "        text-align: right;\n",
       "    }\n",
       "</style>\n",
       "<table border=\"1\" class=\"dataframe\">\n",
       "  <thead>\n",
       "    <tr style=\"text-align: right;\">\n",
       "      <th></th>\n",
       "      <th>budget</th>\n",
       "      <th>genres</th>\n",
       "      <th>homepage</th>\n",
       "      <th>id</th>\n",
       "      <th>keywords</th>\n",
       "      <th>original_language</th>\n",
       "      <th>original_title</th>\n",
       "      <th>overview</th>\n",
       "      <th>popularity</th>\n",
       "      <th>production_companies</th>\n",
       "      <th>...</th>\n",
       "      <th>revenue</th>\n",
       "      <th>runtime</th>\n",
       "      <th>spoken_languages</th>\n",
       "      <th>status</th>\n",
       "      <th>tagline</th>\n",
       "      <th>title</th>\n",
       "      <th>vote_average</th>\n",
       "      <th>vote_count</th>\n",
       "      <th>genres_code</th>\n",
       "      <th>spoken_languages_code</th>\n",
       "    </tr>\n",
       "  </thead>\n",
       "  <tbody>\n",
       "    <tr>\n",
       "      <th>0</th>\n",
       "      <td>237000000</td>\n",
       "      <td>28|Action|12|Adventure|14|Fantasy|878|Science ...</td>\n",
       "      <td>http://www.avatarmovie.com/</td>\n",
       "      <td>19995</td>\n",
       "      <td>1463|culture clash|2964|future|3386|space war|...</td>\n",
       "      <td>en</td>\n",
       "      <td>Avatar</td>\n",
       "      <td>In the 22nd century, a paraplegic Marine is di...</td>\n",
       "      <td>150.438</td>\n",
       "      <td>Ingenious Film Partners|289|Twentieth Century ...</td>\n",
       "      <td>...</td>\n",
       "      <td>2787965087</td>\n",
       "      <td>162</td>\n",
       "      <td>en|English|es|Español</td>\n",
       "      <td>Released</td>\n",
       "      <td>Enter the World of Pandora.</td>\n",
       "      <td>Avatar</td>\n",
       "      <td>7.2</td>\n",
       "      <td>11800</td>\n",
       "      <td>609</td>\n",
       "      <td>159</td>\n",
       "    </tr>\n",
       "    <tr>\n",
       "      <th>1</th>\n",
       "      <td>300000000</td>\n",
       "      <td>12|Adventure|14|Fantasy|28|Action</td>\n",
       "      <td>http://disney.go.com/disneypictures/pirates/</td>\n",
       "      <td>285</td>\n",
       "      <td>270|ocean|726|drug abuse|911|exotic island|131...</td>\n",
       "      <td>en</td>\n",
       "      <td>Pirates of the Caribbean: At World's End</td>\n",
       "      <td>Captain Barbossa, long believed to be dead, ha...</td>\n",
       "      <td>139.083</td>\n",
       "      <td>Walt Disney Pictures|2|Jerry Bruckheimer Films...</td>\n",
       "      <td>...</td>\n",
       "      <td>961000000</td>\n",
       "      <td>169</td>\n",
       "      <td>en|English</td>\n",
       "      <td>Released</td>\n",
       "      <td>At the end of the world, the adventure begins.</td>\n",
       "      <td>Pirates of the Caribbean: At World's End</td>\n",
       "      <td>6.9</td>\n",
       "      <td>4500</td>\n",
       "      <td>135</td>\n",
       "      <td>109</td>\n",
       "    </tr>\n",
       "    <tr>\n",
       "      <th>2</th>\n",
       "      <td>245000000</td>\n",
       "      <td>28|Action|12|Adventure|80|Crime</td>\n",
       "      <td>http://www.sonypictures.com/movies/spectre/</td>\n",
       "      <td>206647</td>\n",
       "      <td>470|spy|818|based on novel|4289|secret agent|9...</td>\n",
       "      <td>en</td>\n",
       "      <td>Spectre</td>\n",
       "      <td>A cryptic message from Bond’s past sends him o...</td>\n",
       "      <td>107.377</td>\n",
       "      <td>Columbia Pictures|5|Danjaq|10761|B24|69434</td>\n",
       "      <td>...</td>\n",
       "      <td>880674609</td>\n",
       "      <td>148</td>\n",
       "      <td>fr|Français|en|English|es|Español|it|Italiano|...</td>\n",
       "      <td>Released</td>\n",
       "      <td>A Plan No One Escapes</td>\n",
       "      <td>Spectre</td>\n",
       "      <td>6.3</td>\n",
       "      <td>4466</td>\n",
       "      <td>664</td>\n",
       "      <td>404</td>\n",
       "    </tr>\n",
       "    <tr>\n",
       "      <th>3</th>\n",
       "      <td>250000000</td>\n",
       "      <td>28|Action|80|Crime|18|Drama|53|Thriller</td>\n",
       "      <td>http://www.thedarkknightrises.com/</td>\n",
       "      <td>49026</td>\n",
       "      <td>849|dc comics|853|crime fighter|949|terrorist|...</td>\n",
       "      <td>en</td>\n",
       "      <td>The Dark Knight Rises</td>\n",
       "      <td>Following the death of District Attorney Harve...</td>\n",
       "      <td>112.313</td>\n",
       "      <td>Legendary Pictures|923|Warner Bros.|6194|DC En...</td>\n",
       "      <td>...</td>\n",
       "      <td>1084939099</td>\n",
       "      <td>165</td>\n",
       "      <td>en|English</td>\n",
       "      <td>Released</td>\n",
       "      <td>The Legend Ends</td>\n",
       "      <td>The Dark Knight Rises</td>\n",
       "      <td>7.6</td>\n",
       "      <td>9106</td>\n",
       "      <td>793</td>\n",
       "      <td>109</td>\n",
       "    </tr>\n",
       "    <tr>\n",
       "      <th>4</th>\n",
       "      <td>260000000</td>\n",
       "      <td>28|Action|12|Adventure|878|Science Fiction</td>\n",
       "      <td>http://movies.disney.com/john-carter</td>\n",
       "      <td>49529</td>\n",
       "      <td>818|based on novel|839|mars|1456|medallion|380...</td>\n",
       "      <td>en</td>\n",
       "      <td>John Carter</td>\n",
       "      <td>John Carter is a war-weary, former military ca...</td>\n",
       "      <td>43.927</td>\n",
       "      <td>Walt Disney Pictures|2</td>\n",
       "      <td>...</td>\n",
       "      <td>284139100</td>\n",
       "      <td>132</td>\n",
       "      <td>en|English</td>\n",
       "      <td>Released</td>\n",
       "      <td>Lost in our world, found in another.</td>\n",
       "      <td>John Carter</td>\n",
       "      <td>6.1</td>\n",
       "      <td>2124</td>\n",
       "      <td>676</td>\n",
       "      <td>109</td>\n",
       "    </tr>\n",
       "  </tbody>\n",
       "</table>\n",
       "<p>5 rows × 22 columns</p>\n",
       "</div>"
      ],
      "text/plain": [
       "      budget                                             genres  \\\n",
       "0  237000000  28|Action|12|Adventure|14|Fantasy|878|Science ...   \n",
       "1  300000000                  12|Adventure|14|Fantasy|28|Action   \n",
       "2  245000000                    28|Action|12|Adventure|80|Crime   \n",
       "3  250000000            28|Action|80|Crime|18|Drama|53|Thriller   \n",
       "4  260000000         28|Action|12|Adventure|878|Science Fiction   \n",
       "\n",
       "                                       homepage      id  \\\n",
       "0                   http://www.avatarmovie.com/   19995   \n",
       "1  http://disney.go.com/disneypictures/pirates/     285   \n",
       "2   http://www.sonypictures.com/movies/spectre/  206647   \n",
       "3            http://www.thedarkknightrises.com/   49026   \n",
       "4          http://movies.disney.com/john-carter   49529   \n",
       "\n",
       "                                            keywords original_language  \\\n",
       "0  1463|culture clash|2964|future|3386|space war|...                en   \n",
       "1  270|ocean|726|drug abuse|911|exotic island|131...                en   \n",
       "2  470|spy|818|based on novel|4289|secret agent|9...                en   \n",
       "3  849|dc comics|853|crime fighter|949|terrorist|...                en   \n",
       "4  818|based on novel|839|mars|1456|medallion|380...                en   \n",
       "\n",
       "                             original_title  \\\n",
       "0                                    Avatar   \n",
       "1  Pirates of the Caribbean: At World's End   \n",
       "2                                   Spectre   \n",
       "3                     The Dark Knight Rises   \n",
       "4                               John Carter   \n",
       "\n",
       "                                            overview popularity  \\\n",
       "0  In the 22nd century, a paraplegic Marine is di...    150.438   \n",
       "1  Captain Barbossa, long believed to be dead, ha...    139.083   \n",
       "2  A cryptic message from Bond’s past sends him o...    107.377   \n",
       "3  Following the death of District Attorney Harve...    112.313   \n",
       "4  John Carter is a war-weary, former military ca...     43.927   \n",
       "\n",
       "                                production_companies          ...           \\\n",
       "0  Ingenious Film Partners|289|Twentieth Century ...          ...            \n",
       "1  Walt Disney Pictures|2|Jerry Bruckheimer Films...          ...            \n",
       "2         Columbia Pictures|5|Danjaq|10761|B24|69434          ...            \n",
       "3  Legendary Pictures|923|Warner Bros.|6194|DC En...          ...            \n",
       "4                             Walt Disney Pictures|2          ...            \n",
       "\n",
       "      revenue runtime                                   spoken_languages  \\\n",
       "0  2787965087     162                              en|English|es|Español   \n",
       "1   961000000     169                                         en|English   \n",
       "2   880674609     148  fr|Français|en|English|es|Español|it|Italiano|...   \n",
       "3  1084939099     165                                         en|English   \n",
       "4   284139100     132                                         en|English   \n",
       "\n",
       "     status                                         tagline  \\\n",
       "0  Released                     Enter the World of Pandora.   \n",
       "1  Released  At the end of the world, the adventure begins.   \n",
       "2  Released                           A Plan No One Escapes   \n",
       "3  Released                                 The Legend Ends   \n",
       "4  Released            Lost in our world, found in another.   \n",
       "\n",
       "                                      title vote_average vote_count  \\\n",
       "0                                    Avatar          7.2      11800   \n",
       "1  Pirates of the Caribbean: At World's End          6.9       4500   \n",
       "2                                   Spectre          6.3       4466   \n",
       "3                     The Dark Knight Rises          7.6       9106   \n",
       "4                               John Carter          6.1       2124   \n",
       "\n",
       "  genres_code spoken_languages_code  \n",
       "0         609                   159  \n",
       "1         135                   109  \n",
       "2         664                   404  \n",
       "3         793                   109  \n",
       "4         676                   109  \n",
       "\n",
       "[5 rows x 22 columns]"
      ]
     },
     "execution_count": 70,
     "metadata": {},
     "output_type": "execute_result"
    }
   ],
   "source": [
    "df1.head()"
   ]
  },
  {
   "cell_type": "code",
   "execution_count": 71,
   "metadata": {},
   "outputs": [
    {
     "data": {
      "text/plain": [
       "count    4803.000000\n",
       "mean      159.937123\n",
       "std       112.067668\n",
       "min        -1.000000\n",
       "25%       109.000000\n",
       "50%       109.000000\n",
       "75%       159.000000\n",
       "max       542.000000\n",
       "Name: spoken_languages_code, dtype: float64"
      ]
     },
     "execution_count": 71,
     "metadata": {},
     "output_type": "execute_result"
    }
   ],
   "source": [
    "df1[\"spoken_languages_code\"].describe()"
   ]
  },
  {
   "cell_type": "code",
   "execution_count": 72,
   "metadata": {},
   "outputs": [
    {
     "data": {
      "text/plain": [
       "count     4803\n",
       "unique    3297\n",
       "top          0\n",
       "freq      1427\n",
       "Name: revenue, dtype: int64"
      ]
     },
     "execution_count": 72,
     "metadata": {},
     "output_type": "execute_result"
    }
   ],
   "source": [
    "df1[\"revenue\"].describe()"
   ]
  },
  {
   "cell_type": "code",
   "execution_count": 73,
   "metadata": {},
   "outputs": [
    {
     "data": {
      "text/plain": [
       "count     4803\n",
       "unique     436\n",
       "top          0\n",
       "freq      1037\n",
       "Name: budget, dtype: int64"
      ]
     },
     "execution_count": 73,
     "metadata": {},
     "output_type": "execute_result"
    }
   ],
   "source": [
    "df1[\"budget\"].describe()"
   ]
  },
  {
   "cell_type": "code",
   "execution_count": 74,
   "metadata": {},
   "outputs": [
    {
     "data": {
      "text/plain": [
       "count     4803.000000\n",
       "unique    4802.000000\n",
       "top          8.902102\n",
       "freq         2.000000\n",
       "Name: popularity, dtype: float64"
      ]
     },
     "execution_count": 74,
     "metadata": {},
     "output_type": "execute_result"
    }
   ],
   "source": [
    "df1[\"popularity\"].describe()"
   ]
  },
  {
   "cell_type": "code",
   "execution_count": 75,
   "metadata": {},
   "outputs": [
    {
     "data": {
      "text/plain": [
       "count     4801.0\n",
       "unique     156.0\n",
       "top         90.0\n",
       "freq       163.0\n",
       "Name: runtime, dtype: float64"
      ]
     },
     "execution_count": 75,
     "metadata": {},
     "output_type": "execute_result"
    }
   ],
   "source": [
    "df1[\"runtime\"].describe()"
   ]
  },
  {
   "cell_type": "code",
   "execution_count": 76,
   "metadata": {},
   "outputs": [
    {
     "data": {
      "text/plain": [
       "count     4803.0\n",
       "unique      71.0\n",
       "top          6.0\n",
       "freq       216.0\n",
       "Name: vote_average, dtype: float64"
      ]
     },
     "execution_count": 76,
     "metadata": {},
     "output_type": "execute_result"
    }
   ],
   "source": [
    "df1[\"vote_average\"].describe()"
   ]
  },
  {
   "cell_type": "code",
   "execution_count": 78,
   "metadata": {},
   "outputs": [
    {
     "data": {
      "text/plain": [
       "count     4803\n",
       "unique    1609\n",
       "top          0\n",
       "freq        62\n",
       "Name: vote_count, dtype: int64"
      ]
     },
     "execution_count": 78,
     "metadata": {},
     "output_type": "execute_result"
    }
   ],
   "source": [
    "df1[\"vote_count\"].describe()"
   ]
  },
  {
   "cell_type": "code",
   "execution_count": 79,
   "metadata": {},
   "outputs": [
    {
     "data": {
      "text/plain": [
       "count    4803.000000\n",
       "mean      616.738913\n",
       "std       297.411487\n",
       "min        -1.000000\n",
       "25%       375.000000\n",
       "50%       609.000000\n",
       "75%       834.000000\n",
       "max      1173.000000\n",
       "Name: genres_code, dtype: float64"
      ]
     },
     "execution_count": 79,
     "metadata": {},
     "output_type": "execute_result"
    }
   ],
   "source": [
    "df1[\"genres_code\"].describe()"
   ]
  },
  {
   "cell_type": "code",
   "execution_count": 92,
   "metadata": {},
   "outputs": [
    {
     "name": "stdout",
     "output_type": "stream",
     "text": [
      "Requirement already satisfied: plotly in c:\\users\\user\\anaconda3\\lib\\site-packages\n",
      "Requirement already satisfied: six in c:\\users\\user\\anaconda3\\lib\\site-packages (from plotly)\n",
      "Requirement already satisfied: pytz in c:\\users\\user\\anaconda3\\lib\\site-packages (from plotly)\n",
      "Requirement already satisfied: nbformat>=4.2 in c:\\users\\user\\anaconda3\\lib\\site-packages (from plotly)\n",
      "Requirement already satisfied: requests in c:\\users\\user\\anaconda3\\lib\\site-packages (from plotly)\n",
      "Requirement already satisfied: decorator>=4.0.6 in c:\\users\\user\\anaconda3\\lib\\site-packages (from plotly)\n",
      "Requirement already satisfied: ipython_genutils in c:\\users\\user\\anaconda3\\lib\\site-packages (from nbformat>=4.2->plotly)\n",
      "Requirement already satisfied: traitlets>=4.1 in c:\\users\\user\\anaconda3\\lib\\site-packages (from nbformat>=4.2->plotly)\n",
      "Requirement already satisfied: jsonschema!=2.5.0,>=2.4 in c:\\users\\user\\anaconda3\\lib\\site-packages (from nbformat>=4.2->plotly)\n",
      "Requirement already satisfied: jupyter_core in c:\\users\\user\\anaconda3\\lib\\site-packages (from nbformat>=4.2->plotly)\n",
      "Requirement already satisfied: chardet<3.1.0,>=3.0.2 in c:\\users\\user\\anaconda3\\lib\\site-packages (from requests->plotly)\n",
      "Requirement already satisfied: idna<2.7,>=2.5 in c:\\users\\user\\anaconda3\\lib\\site-packages (from requests->plotly)\n",
      "Requirement already satisfied: urllib3<1.23,>=1.21.1 in c:\\users\\user\\anaconda3\\lib\\site-packages (from requests->plotly)\n",
      "Requirement already satisfied: certifi>=2017.4.17 in c:\\users\\user\\anaconda3\\lib\\site-packages (from requests->plotly)\n"
     ]
    },
    {
     "name": "stderr",
     "output_type": "stream",
     "text": [
      "You are using pip version 9.0.1, however version 9.0.3 is available.\n",
      "You should consider upgrading via the 'python -m pip install --upgrade pip' command.\n"
     ]
    }
   ],
   "source": [
    "!pip install plotly"
   ]
  },
  {
   "cell_type": "code",
   "execution_count": 93,
   "metadata": {},
   "outputs": [],
   "source": [
    "\n",
    "import plotly\n",
    "plotly.tools.set_credentials_file(username='HoangNguyenDo', api_key='qqdMKSgfCnoIW2vXhjUq')"
   ]
  },
  {
   "cell_type": "code",
   "execution_count": 115,
   "metadata": {},
   "outputs": [
    {
     "data": {
      "text/html": [
       "<iframe id=\"igraph\" scrolling=\"no\" style=\"border:none;\" seamless=\"seamless\" src=\"https://plot.ly/~HoangNguyenDo/19.embed\" height=\"525px\" width=\"100%\"></iframe>"
      ],
      "text/plain": [
       "<plotly.tools.PlotlyDisplay object>"
      ]
     },
     "execution_count": 115,
     "metadata": {},
     "output_type": "execute_result"
    }
   ],
   "source": [
    "import numpy as np\n",
    "import scipy as sp\n",
    "import plotly.plotly as py\n",
    "from plotly.graph_objs import * \n",
    "data = [Scatter(x=df1.budget,\n",
    "            y=df1.revenue,\n",
    "           mode = 'markers')]\n",
    "layout = Layout(title=\"Revenue vs Budget\",\n",
    "                xaxis=dict(title='Budget (in milions)'),\n",
    "                yaxis=dict(title='Revenue (in bilions)'))\n",
    "fig = dict(data=data,layout=layout)\n",
    "\n",
    "py.iplot(fig)"
   ]
  },
  {
   "cell_type": "markdown",
   "metadata": {},
   "source": [
    "In the upper scatter graph, most of movies have the budget under 100M and revenue under 0.5B ,the revenue slightly proportional to budget,only a few movies have budget smaller than revenue."
   ]
  },
  {
   "cell_type": "code",
   "execution_count": 130,
   "metadata": {},
   "outputs": [
    {
     "data": {
      "text/html": [
       "<iframe id=\"igraph\" scrolling=\"no\" style=\"border:none;\" seamless=\"seamless\" src=\"https://plot.ly/~HoangNguyenDo/43.embed\" height=\"525px\" width=\"100%\"></iframe>"
      ],
      "text/plain": [
       "<plotly.tools.PlotlyDisplay object>"
      ]
     },
     "execution_count": 130,
     "metadata": {},
     "output_type": "execute_result"
    }
   ],
   "source": [
    "\n",
    "values = df1[\"genres_code\"].value_counts()\n",
    "trace = Pie(values=values)\n",
    "\n",
    "py.iplot([trace])"
   ]
  },
  {
   "cell_type": "markdown",
   "metadata": {},
   "source": [
    "from the pie chart and value counts on top, we can see that the genres have most part is code 375=Drama, the next genres is 817  =Comedy, take 3,4% of the pie is genres Drama+Romance"
   ]
  },
  {
   "cell_type": "code",
   "execution_count": 123,
   "metadata": {},
   "outputs": [],
   "source": [
    "df1.to_csv(\"movies.csv\", encoding='utf-8')"
   ]
  },
  {
   "cell_type": "code",
   "execution_count": 132,
   "metadata": {},
   "outputs": [
    {
     "data": {
      "text/html": [
       "<iframe id=\"igraph\" scrolling=\"no\" style=\"border:none;\" seamless=\"seamless\" src=\"https://plot.ly/~HoangNguyenDo/47.embed\" height=\"525px\" width=\"100%\"></iframe>"
      ],
      "text/plain": [
       "<plotly.tools.PlotlyDisplay object>"
      ]
     },
     "execution_count": 132,
     "metadata": {},
     "output_type": "execute_result"
    }
   ],
   "source": [
    "data = [Scatter(y=df1.revenue,\n",
    "            x=df1.vote_average,\n",
    "           mode = 'markers')]\n",
    "layout = Layout(title=\"Revenue vs Average vote\",\n",
    "                yaxis=dict(title='revenue (in bilions)'),\n",
    "                xaxis=dict(title='Average vote'))\n",
    "fig = dict(data=data,layout=layout)\n",
    "\n",
    "py.iplot(fig)"
   ]
  },
  {
   "cell_type": "markdown",
   "metadata": {},
   "source": [
    "most of Average vote is from 5 to 8 , and the revenue is slightly propotional to Average vote"
   ]
  },
  {
   "cell_type": "code",
   "execution_count": 142,
   "metadata": {},
   "outputs": [
    {
     "name": "stdout",
     "output_type": "stream",
     "text": [
      "Requirement already satisfied: matplotlib in c:\\users\\user\\anaconda3\\lib\\site-packages\n",
      "Requirement already satisfied: numpy>=1.7.1 in c:\\users\\user\\anaconda3\\lib\\site-packages (from matplotlib)\n",
      "Requirement already satisfied: six>=1.10 in c:\\users\\user\\anaconda3\\lib\\site-packages (from matplotlib)\n",
      "Requirement already satisfied: python-dateutil>=2.1 in c:\\users\\user\\anaconda3\\lib\\site-packages (from matplotlib)\n",
      "Requirement already satisfied: pytz in c:\\users\\user\\anaconda3\\lib\\site-packages (from matplotlib)\n",
      "Requirement already satisfied: cycler>=0.10 in c:\\users\\user\\anaconda3\\lib\\site-packages (from matplotlib)\n",
      "Requirement already satisfied: pyparsing!=2.0.4,!=2.1.2,!=2.1.6,>=2.0.1 in c:\\users\\user\\anaconda3\\lib\\site-packages (from matplotlib)\n"
     ]
    },
    {
     "name": "stderr",
     "output_type": "stream",
     "text": [
      "You are using pip version 9.0.1, however version 9.0.3 is available.\n",
      "You should consider upgrading via the 'python -m pip install --upgrade pip' command.\n"
     ]
    }
   ],
   "source": [
    "!pip install matplotlib\n"
   ]
  },
  {
   "cell_type": "code",
   "execution_count": 143,
   "metadata": {},
   "outputs": [],
   "source": [
    "import matplotlib.pyplot as plt"
   ]
  },
  {
   "cell_type": "code",
   "execution_count": 158,
   "metadata": {},
   "outputs": [
    {
     "data": {
      "image/png": "[encoded data removed]",
      "text/plain": [
       "<matplotlib.figure.Figure at 0x24948314cf8>"
      ]
     },
     "metadata": {},
     "output_type": "display_data"
    }
   ],
   "source": [
    "x=df1.popularity\n",
    "y=df1.runtime\n",
    "plt.xlabel('Popularity(thousands)')\n",
    "plt.ylabel('Runtime (minutes)')\n",
    "plt.title('Runtime vs Popularity')\n",
    "plt.scatter(x,y)\n",
    "plt.show()"
   ]
  },
  {
   "cell_type": "markdown",
   "metadata": {},
   "source": [
    "from the graph we can see people usually prefer the movie have time between 150 and 100 minutes, longer or smaller will decrease the popularity"
   ]
  },
  {
   "cell_type": "code",
   "execution_count": 157,
   "metadata": {},
   "outputs": [
    {
     "data": {
      "image/png": "[encoded data removed]",
      "text/plain": [
       "<matplotlib.figure.Figure at 0x24949f66828>"
      ]
     },
     "metadata": {},
     "output_type": "display_data"
    }
   ],
   "source": [
    "x=df1.vote_count\n",
    "y=df1.revenue\n",
    "plt.title('Vote counts and revenue')\n",
    "plt.xlabel('Vote counts')\n",
    "plt.ylabel('Revenue ( in bilions)')\n",
    "plt.scatter(x,y)\n",
    "plt.show()"
   ]
  },
  {
   "cell_type": "markdown",
   "metadata": {},
   "source": [
    "the scatter plot show that the revenue is propotional to vote counts"
   ]
  },
  {
   "cell_type": "code",
   "execution_count": 159,
   "metadata": {},
   "outputs": [],
   "source": [
    " df1[\"production_countries\"] = df1[\"production_countries\"].astype('category')\n"
   ]
  },
  {
   "cell_type": "code",
   "execution_count": 160,
   "metadata": {},
   "outputs": [],
   "source": [
    "df1[\"production_countries_code\"] = df1[\"production_countries\"].cat.codes"
   ]
  },
  {
   "cell_type": "code",
   "execution_count": 178,
   "metadata": {},
   "outputs": [],
   "source": [
    "import datetime as dt"
   ]
  },
  {
   "cell_type": "code",
   "execution_count": 163,
   "metadata": {},
   "outputs": [
    {
     "data": {
      "text/plain": [
       " 414    2977\n",
       " 286     181\n",
       "-1       174\n",
       " 256     131\n",
       " 164     119\n",
       " 95       88\n",
       " 204      49\n",
       " 25       46\n",
       " 59       46\n",
       " 250      38\n",
       " 145      33\n",
       " 323      24\n",
       " 12       21\n",
       " 230      17\n",
       " 351      15\n",
       " 437      15\n",
       " 138      15\n",
       " 424      15\n",
       " 355      15\n",
       " 226      14\n",
       " 419      14\n",
       " 79       13\n",
       " 417      12\n",
       " 117      11\n",
       " 359      10\n",
       " 80        9\n",
       " 182       9\n",
       " 394       9\n",
       " 309       9\n",
       " 373       8\n",
       "        ... \n",
       " 346       1\n",
       " 350       1\n",
       " 354       1\n",
       " 358       1\n",
       " 362       1\n",
       " 246       1\n",
       " 242       1\n",
       " 238       1\n",
       " 166       1\n",
       " 126       1\n",
       " 130       1\n",
       " 134       1\n",
       " 142       1\n",
       " 146       1\n",
       " 150       1\n",
       " 154       1\n",
       " 158       1\n",
       " 162       1\n",
       " 170       1\n",
       " 234       1\n",
       " 174       1\n",
       " 178       1\n",
       " 186       1\n",
       " 190       1\n",
       " 198       1\n",
       " 202       1\n",
       " 206       1\n",
       " 218       1\n",
       " 222       1\n",
       " 0         1\n",
       "Name: production_countries_code, Length: 469, dtype: int64"
      ]
     },
     "execution_count": 163,
     "metadata": {},
     "output_type": "execute_result"
    }
   ],
   "source": [
    "df1['production_countries_code'].value_counts()"
   ]
  },
  {
   "cell_type": "code",
   "execution_count": 165,
   "metadata": {},
   "outputs": [],
   "source": [
    "df1.to_csv(\"movies1.csv\", encoding='utf-8')"
   ]
  },
  {
   "cell_type": "code",
   "execution_count": 173,
   "metadata": {},
   "outputs": [
    {
     "data": {
      "text/html": [
       "<iframe id=\"igraph\" scrolling=\"no\" style=\"border:none;\" seamless=\"seamless\" src=\"https://plot.ly/~HoangNguyenDo/67.embed\" height=\"525px\" width=\"100%\"></iframe>"
      ],
      "text/plain": [
       "<plotly.tools.PlotlyDisplay object>"
      ]
     },
     "execution_count": 173,
     "metadata": {},
     "output_type": "execute_result"
    }
   ],
   "source": [
    "data = [Bar(y=df1.revenue,\n",
    "            x=df1.production_countries)]\n",
    "layout = Layout(title=\"Revenue and Production countries\",\n",
    "                yaxis=dict(title='revenue (in bilions)'),\n",
    "                xaxis=dict(title='Production countries'),\n",
    "               barmode='stack')\n",
    "fig = dict(data=data,layout=layout)\n",
    "\n",
    "py.iplot(fig)"
   ]
  },
  {
   "cell_type": "markdown",
   "metadata": {},
   "source": [
    "Answer question 1: From the bar chart with revenue stacked , we can see clearly that the revenue from US|United States of America is the highest "
   ]
  },
  {
   "cell_type": "code",
   "execution_count": 187,
   "metadata": {},
   "outputs": [],
   "source": [
    "df1['release_date'] =  pd.to_datetime(df1['release_date'], format='%m/%d/%Y')\n"
   ]
  },
  {
   "cell_type": "code",
   "execution_count": 191,
   "metadata": {},
   "outputs": [],
   "source": [
    "df1['weekday'] = df1['release_date'].dt.dayofweek\n"
   ]
  },
  {
   "cell_type": "code",
   "execution_count": 192,
   "metadata": {},
   "outputs": [
    {
     "data": {
      "text/html": [
       "<div>\n",
       "<style scoped>\n",
       "    .dataframe tbody tr th:only-of-type {\n",
       "        vertical-align: middle;\n",
       "    }\n",
       "\n",
       "    .dataframe tbody tr th {\n",
       "        vertical-align: top;\n",
       "    }\n",
       "\n",
       "    .dataframe thead th {\n",
       "        text-align: right;\n",
       "    }\n",
       "</style>\n",
       "<table border=\"1\" class=\"dataframe\">\n",
       "  <thead>\n",
       "    <tr style=\"text-align: right;\">\n",
       "      <th></th>\n",
       "      <th>budget</th>\n",
       "      <th>genres</th>\n",
       "      <th>homepage</th>\n",
       "      <th>id</th>\n",
       "      <th>keywords</th>\n",
       "      <th>original_language</th>\n",
       "      <th>original_title</th>\n",
       "      <th>overview</th>\n",
       "      <th>popularity</th>\n",
       "      <th>production_companies</th>\n",
       "      <th>...</th>\n",
       "      <th>spoken_languages</th>\n",
       "      <th>status</th>\n",
       "      <th>tagline</th>\n",
       "      <th>title</th>\n",
       "      <th>vote_average</th>\n",
       "      <th>vote_count</th>\n",
       "      <th>genres_code</th>\n",
       "      <th>spoken_languages_code</th>\n",
       "      <th>production_countries_code</th>\n",
       "      <th>weekday</th>\n",
       "    </tr>\n",
       "  </thead>\n",
       "  <tbody>\n",
       "    <tr>\n",
       "      <th>0</th>\n",
       "      <td>237000000</td>\n",
       "      <td>28|Action|12|Adventure|14|Fantasy|878|Science ...</td>\n",
       "      <td>http://www.avatarmovie.com/</td>\n",
       "      <td>19995</td>\n",
       "      <td>1463|culture clash|2964|future|3386|space war|...</td>\n",
       "      <td>en</td>\n",
       "      <td>Avatar</td>\n",
       "      <td>In the 22nd century, a paraplegic Marine is di...</td>\n",
       "      <td>150.438</td>\n",
       "      <td>Ingenious Film Partners|289|Twentieth Century ...</td>\n",
       "      <td>...</td>\n",
       "      <td>en|English|es|Español</td>\n",
       "      <td>Released</td>\n",
       "      <td>Enter the World of Pandora.</td>\n",
       "      <td>Avatar</td>\n",
       "      <td>7.2</td>\n",
       "      <td>11800</td>\n",
       "      <td>609</td>\n",
       "      <td>159</td>\n",
       "      <td>437</td>\n",
       "      <td>3.0</td>\n",
       "    </tr>\n",
       "    <tr>\n",
       "      <th>1</th>\n",
       "      <td>300000000</td>\n",
       "      <td>12|Adventure|14|Fantasy|28|Action</td>\n",
       "      <td>http://disney.go.com/disneypictures/pirates/</td>\n",
       "      <td>285</td>\n",
       "      <td>270|ocean|726|drug abuse|911|exotic island|131...</td>\n",
       "      <td>en</td>\n",
       "      <td>Pirates of the Caribbean: At World's End</td>\n",
       "      <td>Captain Barbossa, long believed to be dead, ha...</td>\n",
       "      <td>139.083</td>\n",
       "      <td>Walt Disney Pictures|2|Jerry Bruckheimer Films...</td>\n",
       "      <td>...</td>\n",
       "      <td>en|English</td>\n",
       "      <td>Released</td>\n",
       "      <td>At the end of the world, the adventure begins.</td>\n",
       "      <td>Pirates of the Caribbean: At World's End</td>\n",
       "      <td>6.9</td>\n",
       "      <td>4500</td>\n",
       "      <td>135</td>\n",
       "      <td>109</td>\n",
       "      <td>414</td>\n",
       "      <td>5.0</td>\n",
       "    </tr>\n",
       "    <tr>\n",
       "      <th>2</th>\n",
       "      <td>245000000</td>\n",
       "      <td>28|Action|12|Adventure|80|Crime</td>\n",
       "      <td>http://www.sonypictures.com/movies/spectre/</td>\n",
       "      <td>206647</td>\n",
       "      <td>470|spy|818|based on novel|4289|secret agent|9...</td>\n",
       "      <td>en</td>\n",
       "      <td>Spectre</td>\n",
       "      <td>A cryptic message from Bond’s past sends him o...</td>\n",
       "      <td>107.377</td>\n",
       "      <td>Columbia Pictures|5|Danjaq|10761|B24|69434</td>\n",
       "      <td>...</td>\n",
       "      <td>fr|Français|en|English|es|Español|it|Italiano|...</td>\n",
       "      <td>Released</td>\n",
       "      <td>A Plan No One Escapes</td>\n",
       "      <td>Spectre</td>\n",
       "      <td>6.3</td>\n",
       "      <td>4466</td>\n",
       "      <td>664</td>\n",
       "      <td>404</td>\n",
       "      <td>286</td>\n",
       "      <td>0.0</td>\n",
       "    </tr>\n",
       "    <tr>\n",
       "      <th>3</th>\n",
       "      <td>250000000</td>\n",
       "      <td>28|Action|80|Crime|18|Drama|53|Thriller</td>\n",
       "      <td>http://www.thedarkknightrises.com/</td>\n",
       "      <td>49026</td>\n",
       "      <td>849|dc comics|853|crime fighter|949|terrorist|...</td>\n",
       "      <td>en</td>\n",
       "      <td>The Dark Knight Rises</td>\n",
       "      <td>Following the death of District Attorney Harve...</td>\n",
       "      <td>112.313</td>\n",
       "      <td>Legendary Pictures|923|Warner Bros.|6194|DC En...</td>\n",
       "      <td>...</td>\n",
       "      <td>en|English</td>\n",
       "      <td>Released</td>\n",
       "      <td>The Legend Ends</td>\n",
       "      <td>The Dark Knight Rises</td>\n",
       "      <td>7.6</td>\n",
       "      <td>9106</td>\n",
       "      <td>793</td>\n",
       "      <td>109</td>\n",
       "      <td>414</td>\n",
       "      <td>0.0</td>\n",
       "    </tr>\n",
       "    <tr>\n",
       "      <th>4</th>\n",
       "      <td>260000000</td>\n",
       "      <td>28|Action|12|Adventure|878|Science Fiction</td>\n",
       "      <td>http://movies.disney.com/john-carter</td>\n",
       "      <td>49529</td>\n",
       "      <td>818|based on novel|839|mars|1456|medallion|380...</td>\n",
       "      <td>en</td>\n",
       "      <td>John Carter</td>\n",
       "      <td>John Carter is a war-weary, former military ca...</td>\n",
       "      <td>43.927</td>\n",
       "      <td>Walt Disney Pictures|2</td>\n",
       "      <td>...</td>\n",
       "      <td>en|English</td>\n",
       "      <td>Released</td>\n",
       "      <td>Lost in our world, found in another.</td>\n",
       "      <td>John Carter</td>\n",
       "      <td>6.1</td>\n",
       "      <td>2124</td>\n",
       "      <td>676</td>\n",
       "      <td>109</td>\n",
       "      <td>414</td>\n",
       "      <td>2.0</td>\n",
       "    </tr>\n",
       "  </tbody>\n",
       "</table>\n",
       "<p>5 rows × 24 columns</p>\n",
       "</div>"
      ],
      "text/plain": [
       "      budget                                             genres  \\\n",
       "0  237000000  28|Action|12|Adventure|14|Fantasy|878|Science ...   \n",
       "1  300000000                  12|Adventure|14|Fantasy|28|Action   \n",
       "2  245000000                    28|Action|12|Adventure|80|Crime   \n",
       "3  250000000            28|Action|80|Crime|18|Drama|53|Thriller   \n",
       "4  260000000         28|Action|12|Adventure|878|Science Fiction   \n",
       "\n",
       "                                       homepage      id  \\\n",
       "0                   http://www.avatarmovie.com/   19995   \n",
       "1  http://disney.go.com/disneypictures/pirates/     285   \n",
       "2   http://www.sonypictures.com/movies/spectre/  206647   \n",
       "3            http://www.thedarkknightrises.com/   49026   \n",
       "4          http://movies.disney.com/john-carter   49529   \n",
       "\n",
       "                                            keywords original_language  \\\n",
       "0  1463|culture clash|2964|future|3386|space war|...                en   \n",
       "1  270|ocean|726|drug abuse|911|exotic island|131...                en   \n",
       "2  470|spy|818|based on novel|4289|secret agent|9...                en   \n",
       "3  849|dc comics|853|crime fighter|949|terrorist|...                en   \n",
       "4  818|based on novel|839|mars|1456|medallion|380...                en   \n",
       "\n",
       "                             original_title  \\\n",
       "0                                    Avatar   \n",
       "1  Pirates of the Caribbean: At World's End   \n",
       "2                                   Spectre   \n",
       "3                     The Dark Knight Rises   \n",
       "4                               John Carter   \n",
       "\n",
       "                                            overview popularity  \\\n",
       "0  In the 22nd century, a paraplegic Marine is di...    150.438   \n",
       "1  Captain Barbossa, long believed to be dead, ha...    139.083   \n",
       "2  A cryptic message from Bond’s past sends him o...    107.377   \n",
       "3  Following the death of District Attorney Harve...    112.313   \n",
       "4  John Carter is a war-weary, former military ca...     43.927   \n",
       "\n",
       "                                production_companies   ...    \\\n",
       "0  Ingenious Film Partners|289|Twentieth Century ...   ...     \n",
       "1  Walt Disney Pictures|2|Jerry Bruckheimer Films...   ...     \n",
       "2         Columbia Pictures|5|Danjaq|10761|B24|69434   ...     \n",
       "3  Legendary Pictures|923|Warner Bros.|6194|DC En...   ...     \n",
       "4                             Walt Disney Pictures|2   ...     \n",
       "\n",
       "                                    spoken_languages    status  \\\n",
       "0                              en|English|es|Español  Released   \n",
       "1                                         en|English  Released   \n",
       "2  fr|Français|en|English|es|Español|it|Italiano|...  Released   \n",
       "3                                         en|English  Released   \n",
       "4                                         en|English  Released   \n",
       "\n",
       "                                          tagline  \\\n",
       "0                     Enter the World of Pandora.   \n",
       "1  At the end of the world, the adventure begins.   \n",
       "2                           A Plan No One Escapes   \n",
       "3                                 The Legend Ends   \n",
       "4            Lost in our world, found in another.   \n",
       "\n",
       "                                      title vote_average vote_count  \\\n",
       "0                                    Avatar          7.2      11800   \n",
       "1  Pirates of the Caribbean: At World's End          6.9       4500   \n",
       "2                                   Spectre          6.3       4466   \n",
       "3                     The Dark Knight Rises          7.6       9106   \n",
       "4                               John Carter          6.1       2124   \n",
       "\n",
       "  genres_code spoken_languages_code production_countries_code weekday  \n",
       "0         609                   159                       437     3.0  \n",
       "1         135                   109                       414     5.0  \n",
       "2         664                   404                       286     0.0  \n",
       "3         793                   109                       414     0.0  \n",
       "4         676                   109                       414     2.0  \n",
       "\n",
       "[5 rows x 24 columns]"
      ]
     },
     "execution_count": 192,
     "metadata": {},
     "output_type": "execute_result"
    }
   ],
   "source": [
    "df1.head()"
   ]
  },
  {
   "cell_type": "code",
   "execution_count": 200,
   "metadata": {},
   "outputs": [
    {
     "data": {
      "text/html": [
       "<iframe id=\"igraph\" scrolling=\"no\" style=\"border:none;\" seamless=\"seamless\" src=\"https://plot.ly/~HoangNguyenDo/73.embed\" height=\"525px\" width=\"100%\"></iframe>"
      ],
      "text/plain": [
       "<plotly.tools.PlotlyDisplay object>"
      ]
     },
     "execution_count": 200,
     "metadata": {},
     "output_type": "execute_result"
    }
   ],
   "source": [
    "data = [Bar(y=df1.revenue,\n",
    "            x=df1.weekday)]\n",
    "layout = Layout(title=\"Day of week affect on revenue\",\n",
    "                yaxis=dict(title='Revenue (in bilions)'),\n",
    "                xaxis=dict(title='Day of week'),\n",
    "               barmode='stack')\n",
    "fig = dict(data=data,layout=layout)\n",
    "\n",
    "py.iplot(fig)"
   ]
  },
  {
   "cell_type": "markdown",
   "metadata": {},
   "source": [
    "Question 3: i separate the date time into day of week , month and year to see how each element effect on revenue\n",
    "in the graph above , the day have most revenue is wenesday and friday .Suprisingly,although on sunday and saturday when people not going to work ,the revenue still lowest when the movie is release."
   ]
  },
  {
   "cell_type": "code",
   "execution_count": 199,
   "metadata": {},
   "outputs": [],
   "source": [
    "df1['release_month']  =df1['release_date'].dt.month\n"
   ]
  },
  {
   "cell_type": "code",
   "execution_count": 203,
   "metadata": {},
   "outputs": [
    {
     "data": {
      "text/html": [
       "<iframe id=\"igraph\" scrolling=\"no\" style=\"border:none;\" seamless=\"seamless\" src=\"https://plot.ly/~HoangNguyenDo/77.embed\" height=\"525px\" width=\"100%\"></iframe>"
      ],
      "text/plain": [
       "<plotly.tools.PlotlyDisplay object>"
      ]
     },
     "execution_count": 203,
     "metadata": {},
     "output_type": "execute_result"
    }
   ],
   "source": [
    "data = [Bar(y=df1.revenue,\n",
    "            x=df1.release_month)]\n",
    "layout = Layout(title=\"Release month affect on revenue\",\n",
    "                yaxis=dict(title='Revenue (in bilions)'),\n",
    "                xaxis=dict(title='Months'),\n",
    "               barmode='stack')\n",
    "fig = dict(data=data,layout=layout)\n",
    "\n",
    "py.iplot(fig)"
   ]
  },
  {
   "cell_type": "markdown",
   "metadata": {},
   "source": [
    "The graph show that the revenue reach it peak when released in June and have lowest revenue on january.Especially, by the end of year the revenue still high "
   ]
  },
  {
   "cell_type": "code",
   "execution_count": 202,
   "metadata": {},
   "outputs": [],
   "source": [
    "df1['release_year']  =df1['release_date'].dt.year\n"
   ]
  },
  {
   "cell_type": "code",
   "execution_count": 204,
   "metadata": {},
   "outputs": [
    {
     "data": {
      "text/html": [
       "<iframe id=\"igraph\" scrolling=\"no\" style=\"border:none;\" seamless=\"seamless\" src=\"https://plot.ly/~HoangNguyenDo/79.embed\" height=\"525px\" width=\"100%\"></iframe>"
      ],
      "text/plain": [
       "<plotly.tools.PlotlyDisplay object>"
      ]
     },
     "execution_count": 204,
     "metadata": {},
     "output_type": "execute_result"
    }
   ],
   "source": [
    "data = [Bar(y=df1.revenue,\n",
    "            x=df1.release_year)]\n",
    "layout = Layout(title=\"Release year affect on revenue\",\n",
    "                yaxis=dict(title='Revenue (in bilions)'),\n",
    "                xaxis=dict(title='Years'),\n",
    "               barmode='stack')\n",
    "fig = dict(data=data,layout=layout)\n",
    "\n",
    "py.iplot(fig)"
   ]
  },
  {
   "cell_type": "markdown",
   "metadata": {},
   "source": [
    "the bar graph show that , the total revenue for movie increase as the year increase, i think because in year by year , people create more tool to atract customer ex:effect, video quality, advertisement........"
   ]
  },
  {
   "cell_type": "markdown",
   "metadata": {},
   "source": [
    "i will use the t-test to test if the average vote affect by areas, i will chose US and UK for 100 samples each country"
   ]
  },
  {
   "cell_type": "code",
   "execution_count": 213,
   "metadata": {},
   "outputs": [],
   "source": [
    "from scipy.stats import ttest_ind\n"
   ]
  },
  {
   "cell_type": "code",
   "execution_count": 218,
   "metadata": {},
   "outputs": [
    {
     "data": {
      "text/plain": [
       "Ttest_indResult(statistic=-2.831529434122645, pvalue=0.0051110261278247355)"
      ]
     },
     "execution_count": 218,
     "metadata": {},
     "output_type": "execute_result"
    }
   ],
   "source": [
    "df0 = df1[df1.production_countries_code == 414].sample(100)\n",
    "df2 = df1[df1.production_countries_code == 256].sample(100)\n",
    "ttest_ind(df0['vote_average'], df2['vote_average'])\n"
   ]
  },
  {
   "cell_type": "markdown",
   "metadata": {},
   "source": [
    "as we can see , the p-value is <0.05 and t-value=-2.8>1.6 with dof=99 and alpha level=0.05 => there is 99% chance that the vote average is difference between countries"
   ]
  },
  {
   "cell_type": "code",
   "execution_count": null,
   "metadata": {},
   "outputs": [],
   "source": []
  },
  {
   "cell_type": "code",
   "execution_count": null,
   "metadata": {},
   "outputs": [],
   "source": []
  }
 ],
 "metadata": {
  "kernelspec": {
   "display_name": "Python 3",
   "language": "python",
   "name": "python3"
  },
  "language_info": {
   "codemirror_mode": {
    "name": "ipython",
    "version": 3
   },
   "file_extension": ".py",
   "mimetype": "text/x-python",
   "name": "python",
   "nbconvert_exporter": "python",
   "pygments_lexer": "ipython3",
   "version": "3.6.4"
  }
 },
 "nbformat": 4,
 "nbformat_minor": 2
}
